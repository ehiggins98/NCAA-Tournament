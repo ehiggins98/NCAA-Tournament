{
 "cells": [
  {
   "cell_type": "code",
   "execution_count": 260,
   "metadata": {},
   "outputs": [],
   "source": [
    "from keras.models import load_model\n",
    "\n",
    "model = load_model(\"other_models/model2.h5\")"
   ]
  },
  {
   "cell_type": "code",
   "execution_count": 261,
   "metadata": {},
   "outputs": [],
   "source": [
    "import pandas as pd\n",
    "import numpy as np\n",
    "\n",
    "team_data = pd.read_csv(\"data/teams_data.csv\").filter(regex='^(?!Unnamed).+$')\n",
    "team_data[\"TeamID\"] = team_data[\"TeamID\"].astype(np.int64)\n",
    "team_data[\"Season\"] = team_data[\"Season\"].astype(np.int64)"
   ]
  },
  {
   "cell_type": "code",
   "execution_count": 262,
   "metadata": {},
   "outputs": [],
   "source": [
    "team_data = team_data[team_data[\"Season\"] == 2019]"
   ]
  },
  {
   "cell_type": "code",
   "execution_count": 263,
   "metadata": {},
   "outputs": [],
   "source": [
    "seeds = pd.read_csv(\"data/DataFiles/NCAATourneySeeds.csv\")\n",
    "seeds = seeds[seeds[\"Season\"] == 2019]"
   ]
  },
  {
   "cell_type": "code",
   "execution_count": 264,
   "metadata": {},
   "outputs": [],
   "source": [
    "def process_data(data):\n",
    "    x = data.drop(['Season', 'Team1ID', 'Team2ID', \"T0TeamName\", \"T1TeamName\"], axis=1)\n",
    "    return x"
   ]
  },
  {
   "cell_type": "code",
   "execution_count": 265,
   "metadata": {},
   "outputs": [],
   "source": [
    "team_names = pd.read_csv(\"data/DataFiles/Teams.csv\")\n",
    "\n",
    "team_names = team_names[[\"TeamID\", \"TeamName\"]]"
   ]
  },
  {
   "cell_type": "code",
   "execution_count": 266,
   "metadata": {},
   "outputs": [],
   "source": [
    "team_data = team_data.merge(team_names, how=\"left\", on=\"TeamID\")"
   ]
  },
  {
   "cell_type": "code",
   "execution_count": 267,
   "metadata": {},
   "outputs": [
    {
     "data": {
      "text/plain": [
       "Index(['2ptpct', '3ptpct', 'APG', 'APG_diff', 'BPG', 'BPG_diff', 'DRPG',\n",
       "       'DRPG_diff', 'FPG', 'FPG_diff', 'FTpct', 'ORPG', 'ORPG_diff', 'PPG',\n",
       "       'PPG_diff', 'RPG', 'RPG_diff', 'SPG', 'SPG_diff', 'Season', 'TeamID',\n",
       "       'TeamName'],\n",
       "      dtype='object')"
      ]
     },
     "execution_count": 267,
     "metadata": {},
     "output_type": "execute_result"
    }
   ],
   "source": [
    "team_data.columns"
   ]
  },
  {
   "cell_type": "code",
   "execution_count": 268,
   "metadata": {},
   "outputs": [],
   "source": [
    "games = pd.read_csv(\"data/DataFiles/NCAATourneySlots.csv\")"
   ]
  },
  {
   "cell_type": "code",
   "execution_count": 269,
   "metadata": {},
   "outputs": [],
   "source": [
    "games = games[games[\"Season\"] == 2019]"
   ]
  },
  {
   "cell_type": "code",
   "execution_count": 270,
   "metadata": {},
   "outputs": [],
   "source": [
    "def get_winner(team1, team2):\n",
    "    \n",
    "    ordinals = pd.read_csv('data/MasseyOrdinals/MasseyOrdinals.csv')\n",
    "\n",
    "    ordinals = ordinals.sort_values(by='RankingDayNum')\n",
    "\n",
    "    ordinals = ordinals.loc[ordinals['SystemName'] == 'POM']\n",
    "    ordinals = ordinals.loc[ordinals[\"Season\"] == 2019]\n",
    "    \n",
    "    team1_KP = ordinals.loc[ordinals[\"TeamID\"] == team1, \"OrdinalRank\"].values[-1]\n",
    "    team2_KP = ordinals.loc[ordinals[\"TeamID\"] == team2, \"OrdinalRank\"].values[-1]\n",
    "    \n",
    "    game_data = {\n",
    "        \"Season\": [2019],\n",
    "        \"Team1ID\": [team1],\n",
    "        \"Team2ID\": [team2],\n",
    "        \"T0OrdinalRank\": [team1_KP],\n",
    "        \"T1OrdinalRank\": [team2_KP],\n",
    "    }\n",
    "    \n",
    "    games = pd.DataFrame.from_dict(game_data)\n",
    "    \n",
    "    merged = games.merge(team_data, how='left', left_on=['Team1ID', 'Season'], right_on=['TeamID', 'Season'])\n",
    "    merged = merged.drop('TeamID', axis=1)\n",
    "    merged = merged.rename(index=str, columns=lambda x: x if x in {'Season', 'Team1ID', 'Team2ID'} or x.startswith('T0') or x.startswith('T1') else 'T0' + x)\n",
    "\n",
    "    merged = merged.merge(team_data, how='left', left_on=['Team2ID', 'Season'], right_on=['TeamID', 'Season'])\n",
    "    merged = merged.drop('TeamID', axis=1)\n",
    "    merged = merged.rename(index=str, columns=lambda x: x if x in {'Season', 'Team1ID', 'Team2ID'} or x.startswith('T0') or x.startswith('T1') else 'T1' + x)\n",
    "\n",
    "    x = process_data(merged)\n",
    "    \n",
    "    return np.round(model.predict(x))\n",
    "    "
   ]
  },
  {
   "cell_type": "code",
   "execution_count": 271,
   "metadata": {},
   "outputs": [],
   "source": [
    "def get_team_name(team):\n",
    "    return team_data.loc[team_data[\"TeamID\"] == team, \"TeamName\"].values[0]"
   ]
  },
  {
   "cell_type": "code",
   "execution_count": 272,
   "metadata": {},
   "outputs": [
    {
     "name": "stdout",
     "output_type": "stream",
     "text": [
      "Belmont vs Temple\n",
      "Belmont wins!\n",
      "N Dakota St vs NC Central\n",
      "N Dakota St wins!\n",
      "Arizona St vs St John's\n",
      "Arizona St wins!\n",
      "Prairie View vs F Dickinson\n",
      "F Dickinson wins!\n",
      "N Dakota St vs Duke\n",
      "Duke wins!\n",
      "Bradley vs Michigan St\n",
      "Michigan St wins!\n",
      "LSU vs Yale\n",
      "LSU wins!\n",
      "Virginia Tech vs St Louis\n",
      "Virginia Tech wins!\n",
      "Liberty vs Mississippi St\n",
      "Liberty wins!\n",
      "Belmont vs Maryland\n",
      "Belmont wins!\n",
      "Minnesota vs Louisville\n",
      "Louisville wins!\n",
      "VA Commonwealth vs UCF\n",
      "VA Commonwealth wins!\n",
      "Virginia vs Gardner Webb\n",
      "Virginia wins!\n",
      "Tennessee vs Colgate\n",
      "Tennessee wins!\n",
      "Purdue vs Old Dominion\n",
      "Purdue wins!\n",
      "Kansas St vs UC Irvine\n",
      "Kansas St wins!\n",
      "Oregon vs Wisconsin\n",
      "Wisconsin wins!\n",
      "Villanova vs St Mary's CA\n",
      "Villanova wins!\n",
      "Cincinnati vs Iowa\n",
      "Cincinnati wins!\n",
      "Mississippi vs Oklahoma\n",
      "Mississippi wins!\n",
      "Iona vs North Carolina\n",
      "North Carolina wins!\n",
      "Kentucky vs Abilene Chr\n",
      "Kentucky wins!\n",
      "Houston vs Georgia St\n",
      "Houston wins!\n",
      "Kansas vs Northeastern\n",
      "Kansas wins!\n",
      "New Mexico St vs Auburn\n",
      "New Mexico St wins!\n",
      "Iowa St vs Ohio St\n",
      "Iowa St wins!\n",
      "Seton Hall vs Wofford\n",
      "Wofford wins!\n",
      "Utah St vs Washington\n",
      "Utah St wins!\n",
      "Gonzaga vs F Dickinson\n",
      "Gonzaga wins!\n",
      "Michigan vs Montana\n",
      "Michigan wins!\n",
      "Texas Tech vs N Kentucky\n",
      "Texas Tech wins!\n",
      "Vermont vs Florida St\n",
      "Florida St wins!\n",
      "Marquette vs Murray St\n",
      "Murray St wins!\n",
      "Buffalo vs Arizona St\n",
      "Buffalo wins!\n",
      "Florida vs Nevada\n",
      "Nevada wins!\n",
      "Syracuse vs Baylor\n",
      "Syracuse wins!\n",
      "VA Commonwealth vs Duke\n",
      "Duke wins!\n",
      "Michigan St vs Louisville\n",
      "Michigan St wins!\n",
      "LSU vs Belmont\n",
      "Belmont wins!\n",
      "Liberty vs Virginia Tech\n",
      "Virginia Tech wins!\n",
      "Mississippi vs Virginia\n",
      "Virginia wins!\n",
      "Tennessee vs Cincinnati\n",
      "Tennessee wins!\n",
      "Villanova vs Purdue\n",
      "Purdue wins!\n",
      "Kansas St vs Wisconsin\n",
      "Wisconsin wins!\n",
      "Utah St vs North Carolina\n",
      "North Carolina wins!\n",
      "Wofford vs Kentucky\n",
      "Kentucky wins!\n",
      "Houston vs Iowa St\n",
      "Houston wins!\n",
      "New Mexico St vs Kansas\n",
      "New Mexico St wins!\n",
      "Syracuse vs Gonzaga\n",
      "Gonzaga wins!\n",
      "Michigan vs Nevada\n",
      "Nevada wins!\n",
      "Texas Tech vs Buffalo\n",
      "Texas Tech wins!\n",
      "Florida St vs Murray St\n",
      "Murray St wins!\n",
      "Duke vs Virginia Tech\n",
      "Duke wins!\n",
      "Michigan St vs Belmont\n",
      "Michigan St wins!\n",
      "Wisconsin vs Virginia\n",
      "Virginia wins!\n",
      "Purdue vs Tennessee\n",
      "Tennessee wins!\n",
      "New Mexico St vs North Carolina\n",
      "North Carolina wins!\n",
      "Houston vs Kentucky\n",
      "Houston wins!\n",
      "Gonzaga vs Murray St\n",
      "Gonzaga wins!\n",
      "Nevada vs Texas Tech\n",
      "Nevada wins!\n",
      "Duke vs Michigan St\n",
      "Duke wins!\n",
      "Tennessee vs Virginia\n",
      "Virginia wins!\n",
      "Houston vs North Carolina\n",
      "Houston wins!\n",
      "Nevada vs Gonzaga\n",
      "Gonzaga wins!\n",
      "Duke vs Gonzaga\n",
      "Gonzaga wins!\n",
      "Virginia vs Houston\n",
      "Virginia wins!\n",
      "Virginia vs Gonzaga\n",
      "Gonzaga wins!\n"
     ]
    }
   ],
   "source": [
    "import random\n",
    "for index, row in games.iterrows():\n",
    "    teams = [row[\"StrongSeed\"], row[\"WeakSeed\"]]\n",
    "    random.shuffle(teams)\n",
    "    team1 = seeds.loc[seeds[\"Seed\"] == teams[0], \"TeamID\"].values[0]\n",
    "    team2 = seeds.loc[seeds[\"Seed\"] == teams[1], \"TeamID\"].values[0]\n",
    "    \n",
    "    winner = team1 if get_winner(team1, team2) == 0 else team2\n",
    "    print(\"{} vs {}\".format(get_team_name(team1), get_team_name(team2)))\n",
    "    print(\"{} wins!\".format(get_team_name(winner)))\n",
    "    seeds = seeds.append({ \"Season\": 2019, \"Seed\": row[\"Slot\"], \"TeamID\": winner }, ignore_index=True)\n",
    "#     print(seeds)\n",
    "#     print(team1_data, team2_data)\n",
    "#     break"
   ]
  },
  {
   "cell_type": "code",
   "execution_count": null,
   "metadata": {},
   "outputs": [],
   "source": []
  }
 ],
 "metadata": {
  "kernelspec": {
   "display_name": "Python 3",
   "language": "python",
   "name": "python3"
  },
  "language_info": {
   "codemirror_mode": {
    "name": "ipython",
    "version": 3
   },
   "file_extension": ".py",
   "mimetype": "text/x-python",
   "name": "python",
   "nbconvert_exporter": "python",
   "pygments_lexer": "ipython3",
   "version": "3.7.1"
  }
 },
 "nbformat": 4,
 "nbformat_minor": 2
}
